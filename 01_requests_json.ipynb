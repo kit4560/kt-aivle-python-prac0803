{
 "cells": [
  {
   "cell_type": "code",
   "execution_count": 93,
   "id": "312f3714-689e-4263-b8a3-3530f4a19fc9",
   "metadata": {},
   "outputs": [
    {
     "name": "stdout",
     "output_type": "stream",
     "text": [
      "2.25.1\n",
      "1.4.3\n"
     ]
    }
   ],
   "source": [
    "### web crawling\n",
    "# - 정적 페이지 웹크롤링 : 페이지의 데이터가 변경될때 URL변경 O (HTML)\n",
    "# - 동적 페이지 웹크롤링 : 페이지의 데이터가 변경될때 URL변경 X (JSON)\n",
    "# requests모듈 : 브라우저의 URL입력시 서버에서 데이터를 다운받아 화면에 출력\n",
    "import requests as rs\n",
    "import pandas as pd\n",
    "\n",
    "print(rs.__version__)\n",
    "print(pd.__version__)"
   ]
  },
  {
   "cell_type": "code",
   "execution_count": 97,
   "id": "1457b8e4-5f25-408a-b70c-cdccbd8d7758",
   "metadata": {},
   "outputs": [
    {
     "name": "stdout",
     "output_type": "stream",
     "text": [
      "  localTradedAt closePrice\n",
      "0    2022-08-03   1,311.50\n",
      "1    2022-08-02   1,312.00\n",
      "2    2022-08-01   1,305.00\n",
      "3    2022-07-29   1,304.50\n",
      "4    2022-07-28   1,302.00\n",
      "5    2022-07-27   1,314.00\n",
      "6    2022-07-26   1,311.00\n",
      "7    2022-07-25   1,312.00\n",
      "8    2022-07-22   1,310.00\n",
      "9    2022-07-21   1,315.00\n",
      "  localTradedAt closePrice\n",
      "0    2022-08-03     984.57\n",
      "1    2022-08-02     997.83\n",
      "2    2022-08-01     989.42\n",
      "3    2022-07-29     979.32\n",
      "4    2022-07-28     968.21\n",
      "5    2022-07-27     957.83\n",
      "6    2022-07-26     960.55\n",
      "7    2022-07-25     960.86\n",
      "8    2022-07-22     963.06\n",
      "9    2022-07-21     950.87\n"
     ]
    }
   ],
   "source": [
    "# https://m.stock.naver.com/api/index/KOSDAQ/price?pageSize=10&page=2\n",
    "\n",
    "# Naver Stock Data\n",
    "# Kospi, Kosdaq, USD\n",
    "\n",
    "# 동적페이지 실습\n",
    "\n",
    "class naver_stock():\n",
    "    def stock_price(page=1,page_size=10,code='KOSPI'):\n",
    "        \"\"\"\n",
    "        page = {int} puts page\n",
    "        page_size = {int} \n",
    "        code = {string} whitch site do you want? (KOSPI/KOSDAQ)\n",
    "        \"\"\"\n",
    "        url = f\"https://m.stock.naver.com/api/index/{code}/price?pageSize={page_size}&page={page}\"\n",
    "        return naver_stock.return_pd(url, [\"localTradedAt\", \"closePrice\"])\n",
    "    def stock_exchange(page=1, page_size=10, code='FX_USDKRW'):\n",
    "        \"\"\"\n",
    "        page = {int} puts page\n",
    "        page_size = {int} \n",
    "        code = {string} whitch foreign currency exchange?\n",
    "        \"\"\"\n",
    "        url = f\"https://api.stock.naver.com/marketindex/exchange/{code}/prices?page={page}&pageSize={page_size}\"\n",
    "        return naver_stock.return_pd(url, [\"localTradedAt\", \"closePrice\"])\n",
    "    def return_pd(url, list):\n",
    "        data = rs.get(url).json()\n",
    "        return pd.DataFrame(data)[list]\n",
    "\n",
    "# print(naver_stock.stock_price(1,4))\n",
    "# print(naver_stock.stock_price(1,4,\"KOSDAQ\"))\n",
    "print(naver_stock.stock_exchange(1, 60, \"FX_USDKRW\").head(10))\n",
    "print(naver_stock.stock_exchange(1, 60, \"FX_JPYKRW\").head(10))"
   ]
  },
  {
   "cell_type": "code",
   "execution_count": 95,
   "id": "203c1353-d23c-4735-9a5c-f58b0d860331",
   "metadata": {},
   "outputs": [
    {
     "name": "stdout",
     "output_type": "stream",
     "text": [
      "  localTradedAt    kospi  kosdaq     usd\n",
      "0    2022-08-03  2457.92  814.53  1311.1\n",
      "1    2022-08-02  2439.62  804.34  1312.0\n",
      "2    2022-08-01  2452.25  807.61  1305.0\n",
      "3    2022-07-29  2451.50  803.62  1304.5\n",
      "4    2022-07-28  2435.27  798.32  1302.0\n",
      "localTradedAt     object\n",
      "kospi            float64\n",
      "kosdaq           float64\n",
      "usd              float64\n",
      "dtype: object\n",
      "           kospi    kosdaq       usd\n",
      "kospi   1.000000  0.984038 -0.877288\n",
      "kosdaq  0.984038  1.000000 -0.820035\n",
      "usd    -0.877288 -0.820035  1.000000\n"
     ]
    }
   ],
   "source": [
    "df = naver_stock.stock_price(1,60).copy()\n",
    "df['kosdaq'] = naver_stock.stock_price(1,60,'KOSDAQ')['closePrice']\n",
    "df[\"usd\"] = naver_stock.stock_exchange(1, 60,'FX_USDKRW')['closePrice']\n",
    "df = df.rename(columns = {'closePrice' : 'kospi'})\n",
    "\n",
    "df['kospi'] = df['kospi'].apply(lambda data : float(data.replace(\",\",\"\")))\n",
    "df['kosdaq'] = df['kosdaq'].apply(lambda data : float(data.replace(\",\",\"\")))\n",
    "df['usd'] = df['usd'].apply(lambda data : float(data.replace(\",\",\"\")))\n",
    "print(df.head(5))\n",
    "print(df.dtypes)\n",
    "\n",
    "print(df[['kospi', 'kosdaq', 'usd']].corr())"
   ]
  },
  {
   "cell_type": "code",
   "execution_count": 86,
   "id": "bd0ff90f-a01f-4d28-b67f-75f1944f8140",
   "metadata": {},
   "outputs": [
    {
     "name": "stdout",
     "output_type": "stream",
     "text": [
      "[1, 2, 3] [1, 2, 3] [1, 2, 3]\n",
      "[1, 4, 3] [1, 4, 3] [1, 2, 3]\n"
     ]
    }
   ],
   "source": [
    "# call by 실습\n",
    "\n",
    "a = [1, 2, 3]\n",
    "b = a          # 얕은 복사 call by reference\n",
    "c = a.copy()   # 깊은 복사 call by value\n",
    "print(a,b,c)\n",
    "\n",
    "a[1] = 4\n",
    "print(a,b,c)   # 이러한 결과가 나오는 이유는 c언어마냥 주소값이 존재하기 떄문에 a, b가 가리키는것은 [1,2,3]의 주소값.따라서 b도 변화한것. \n",
    "               # 그냥 데이터 다룰때는 메모리 더 써도 안전한 copy()사용 권장."
   ]
  },
  {
   "cell_type": "code",
   "execution_count": 92,
   "id": "4d9e61bd-6e5d-4e7e-baf0-4b15170ed6ae",
   "metadata": {},
   "outputs": [
    {
     "name": "stdout",
     "output_type": "stream",
     "text": [
      "3 -1\n"
     ]
    },
    {
     "data": {
      "text/plain": [
       "(3, -1)"
      ]
     },
     "execution_count": 92,
     "metadata": {},
     "output_type": "execute_result"
    }
   ],
   "source": [
    "# lambda 비교\n",
    "\n",
    "# 함수 3개 사용, 메모리 3칸 사용\n",
    "def plus(n1,n2):\n",
    "    return n1+n2\n",
    "def minus(n1,n2):\n",
    "    return n1-n2\n",
    "def calc(func, n1, n2):\n",
    "    return func(n1, n2)\n",
    "\n",
    "print(calc(plus, 1, 2), calc(minus, 1, 2))\n",
    "\n",
    "# plus_lambda = lambda n1, n2:n1+n2\n",
    "# print(plus_lambda(1,2))\n",
    "\n",
    "# 함수 1개 사용, 메모리 1칸 사용\n",
    "def calc(func, n1, n2):\n",
    "    return func(n1, n2)\n",
    "\n",
    "calc(lambda n1, n2: n1 + n2, 1, 2), calc(lambda n1, n2: n1 - n2, 1, 2)"
   ]
  },
  {
   "cell_type": "code",
   "execution_count": null,
   "id": "b230b154-9be0-4e9a-a2d0-ead35c89a08b",
   "metadata": {},
   "outputs": [],
   "source": []
  }
 ],
 "metadata": {
  "kernelspec": {
   "display_name": "Python 3",
   "language": "python",
   "name": "python3"
  },
  "language_info": {
   "codemirror_mode": {
    "name": "ipython",
    "version": 3
   },
   "file_extension": ".py",
   "mimetype": "text/x-python",
   "name": "python",
   "nbconvert_exporter": "python",
   "pygments_lexer": "ipython3",
   "version": "3.8.8"
  }
 },
 "nbformat": 4,
 "nbformat_minor": 5
}
