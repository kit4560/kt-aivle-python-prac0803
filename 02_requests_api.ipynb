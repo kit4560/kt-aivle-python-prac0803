{
 "cells": [
  {
   "cell_type": "code",
   "execution_count": 2,
   "id": "9d5bdca1-60c7-44f1-aa3f-34b639e1ae55",
   "metadata": {},
   "outputs": [
    {
     "name": "stdout",
     "output_type": "stream",
     "text": [
      "2.25.1\n",
      "1.4.3\n",
      "2.0.9\n"
     ]
    }
   ],
   "source": [
    "import requests as rs\n",
    "import pandas as pd\n",
    "import json\n",
    "\n",
    "print(rs.__version__)\n",
    "print(pd.__version__)\n",
    "print(json.__version__)"
   ]
  },
  {
   "cell_type": "markdown",
   "id": "d4749034-220a-4044-8e0b-d910fd4d5a00",
   "metadata": {},
   "source": [
    "# API\n",
    "# Application Programing Interface\n",
    "# API로 데이터 수집하는것이 바람직함(공식적)"
   ]
  },
  {
   "cell_type": "code",
   "execution_count": 21,
   "id": "1e6fbef7-2d9b-489d-9268-9fc37d1cf66a",
   "metadata": {},
   "outputs": [],
   "source": [
    "# 1. App등록 --> app_key(request_token)\n",
    "# https://developers.naver.com\n",
    "CLIENT_ID, CLIENT_SECRET = \"SVJjwMDZALhs96xlXu28\", \"6FFgQLcrJt\""
   ]
  },
  {
   "cell_type": "code",
   "execution_count": 22,
   "id": "2565a661-8151-4f60-8796-1774a7896c61",
   "metadata": {},
   "outputs": [],
   "source": [
    "# 2. URL 확인(Naver API 확인)\n",
    "url = 'https://openapi.naver.com/v1/papago/n2mt'\n",
    "txt = \"파이썬은 재미있습니다.\"\n",
    "params = {'source' : 'ko', 'target' : 'en', 'text' : txt}\n",
    "header = {\"Content-Type\" : \"application/json\", \"X-Naver-Client-Id\" : CLIENT_ID, \"X-Naver-Client-Secret\" : CLIENT_SECRET}"
   ]
  },
  {
   "cell_type": "code",
   "execution_count": 32,
   "id": "bfbd46b5-26a5-4f5c-80d0-98713f551b1b",
   "metadata": {},
   "outputs": [],
   "source": [
    "# 3. 요청\n",
    "response = rs.post(url, json.dumps(params), headers = header)"
   ]
  },
  {
   "cell_type": "code",
   "execution_count": 46,
   "id": "5b01012b-bafa-4fa3-9c4f-07d2d222847d",
   "metadata": {},
   "outputs": [
    {
     "name": "stdout",
     "output_type": "stream",
     "text": [
      "Python is fun.\n"
     ]
    }
   ],
   "source": [
    "# 4. JSON --> Lists\n",
    "txt_en = response.json()['message']['result']['translatedText']\n",
    "print(txt_en)"
   ]
  },
  {
   "cell_type": "code",
   "execution_count": 48,
   "id": "b392ebb6-d20e-4cfe-b4f5-df37e4b5ee56",
   "metadata": {},
   "outputs": [
    {
     "name": "stdout",
     "output_type": "stream",
     "text": [
      "안녕.\n",
      "こんにちは.\n",
      "Was machst du heute?\n"
     ]
    }
   ],
   "source": [
    "# 5. 함수화\n",
    "class papago():\n",
    "    def translate(txt, string, to):\n",
    "        CLIENT_ID, CLIENT_SECRET = \"SVJjwMDZALhs96xlXu28\", \"6FFgQLcrJt\"\n",
    "        url = 'https://openapi.naver.com/v1/papago/n2mt'\n",
    "        params = {'source' : string, 'target' : to, 'text' : txt}\n",
    "        header = {\"Content-Type\" : \"application/json\", \"X-Naver-Client-Id\" : CLIENT_ID, \"X-Naver-Client-Secret\" : CLIENT_SECRET}\n",
    "\n",
    "        response = rs.post(url, json.dumps(params), headers = header)\n",
    "        return response.json()['message']['result']['translatedText']\n",
    "\n",
    "print(papago.translate(\"hi.\", 'en', 'ko'))\n",
    "print(papago.translate(\"hi.\", 'en', 'ja'))\n",
    "print(papago.translate(\"오늘 뭐할거야?.\", 'ko', 'de'))"
   ]
  },
  {
   "cell_type": "code",
   "execution_count": 50,
   "id": "9f9ecf95-6876-43ad-a373-77c94ad8df2f",
   "metadata": {},
   "outputs": [
    {
     "name": "stdout",
     "output_type": "stream",
     "text": [
      " C 드라이브의 볼륨에는 이름이 없습니다.\n",
      " 볼륨 일련 번호: 7C6C-FC35\n",
      "\n",
      " C:\\Users\\User\\day1-20220803T002955Z-001\\code 디렉터리\n",
      "\n",
      "2022-08-03  오후 04:48    <DIR>          .\n",
      "2022-08-03  오후 04:48    <DIR>          ..\n",
      "2022-08-03  오후 03:41    <DIR>          .ipynb_checkpoints\n",
      "2022-08-03  오후 04:40             7,525 01_requests_json.ipynb\n",
      "2022-08-03  오후 04:47             5,943 02_requests_api.ipynb\n",
      "2022-08-03  오후 04:47            10,060 covid.xlsx\n",
      "               3개 파일              23,528 바이트\n",
      "               3개 디렉터리  135,019,520,000 바이트 남음\n"
     ]
    }
   ],
   "source": [
    "%ls"
   ]
  },
  {
   "cell_type": "code",
   "execution_count": 54,
   "id": "1277ef7d-256d-40d8-8ada-dfb92bb4edb9",
   "metadata": {},
   "outputs": [
    {
     "data": {
      "text/html": [
       "<div>\n",
       "<style scoped>\n",
       "    .dataframe tbody tr th:only-of-type {\n",
       "        vertical-align: middle;\n",
       "    }\n",
       "\n",
       "    .dataframe tbody tr th {\n",
       "        vertical-align: top;\n",
       "    }\n",
       "\n",
       "    .dataframe thead th {\n",
       "        text-align: right;\n",
       "    }\n",
       "</style>\n",
       "<table border=\"1\" class=\"dataframe\">\n",
       "  <thead>\n",
       "    <tr style=\"text-align: right;\">\n",
       "      <th></th>\n",
       "      <th>category</th>\n",
       "      <th>title</th>\n",
       "    </tr>\n",
       "  </thead>\n",
       "  <tbody>\n",
       "    <tr>\n",
       "      <th>4</th>\n",
       "      <td>104</td>\n",
       "      <td>\"코로나 확진자 '0명'인 날은 절대 오지 않는다\" 美전문가</td>\n",
       "    </tr>\n",
       "    <tr>\n",
       "      <th>5</th>\n",
       "      <td>104</td>\n",
       "      <td>올림픽 다가오는데 도쿄 코로나 확산 빨라져...일주일새 25％↑</td>\n",
       "    </tr>\n",
       "  </tbody>\n",
       "</table>\n",
       "</div>"
      ],
      "text/plain": [
       "   category                                title\n",
       "4       104    \"코로나 확진자 '0명'인 날은 절대 오지 않는다\" 美전문가\n",
       "5       104  올림픽 다가오는데 도쿄 코로나 확산 빨라져...일주일새 25％↑"
      ]
     },
     "execution_count": 54,
     "metadata": {},
     "output_type": "execute_result"
    }
   ],
   "source": [
    "covid = pd.read_excel(\"covid.xlsx\")[[\"category\", \"title\"]]\n",
    "covid.tail(2)"
   ]
  },
  {
   "cell_type": "code",
   "execution_count": 65,
   "id": "19ce44db-fee6-434f-9b71-f7109b2fef0a",
   "metadata": {},
   "outputs": [],
   "source": [
    "def translated(txt):\n",
    "    CLIENT_ID, CLIENT_SECRET = \"SVJjwMDZALhs96xlXu28\", \"6FFgQLcrJt\"\n",
    "    url = 'https://openapi.naver.com/v1/papago/n2mt'\n",
    "    params = {'source' : \"ko\", 'target' : \"en\", 'text' : txt}\n",
    "    header = {\"Content-Type\" : \"application/json\", \"X-Naver-Client-Id\" : CLIENT_ID, \"X-Naver-Client-Secret\" : CLIENT_SECRET}\n",
    "\n",
    "    response = rs.post(url, json.dumps(params), headers = header)\n",
    "    return response.json()['message']['result']['translatedText']"
   ]
  },
  {
   "cell_type": "code",
   "execution_count": 70,
   "id": "97ef7464-f705-4f98-9e84-180b69677755",
   "metadata": {},
   "outputs": [
    {
     "name": "stdout",
     "output_type": "stream",
     "text": [
      "   category                                title  \\\n",
      "0       101    SK바이오사이언스, 코로나19 백신 임상 3상 시험계획 제출   \n",
      "1       102             고양시 노래연습장 코로나19 누적확진 41명   \n",
      "2       103        코로나19 신규 감염, 28일 오후 9시까지 542명   \n",
      "3       103            프로야구 수도권 구단서 코로나19 확진자 발생   \n",
      "4       104    \"코로나 확진자 '0명'인 날은 절대 오지 않는다\" 美전문가   \n",
      "5       104  올림픽 다가오는데 도쿄 코로나 확산 빨라져...일주일새 25％↑   \n",
      "\n",
      "                                            title_en  \n",
      "0  SK Bioscience Submits Phase III Clinical Trial...  \n",
      "1  41 cumulative COVID-19 confirmed patients at G...  \n",
      "2  New COVID-19 infections, 542 people by 9 p.m. ...  \n",
      "3  Covid-19 confirmed cases in professional baseb...  \n",
      "4  \"The day when there are zero confirmed cases o...  \n",
      "5  As the Olympics are approaching, the spread of...  \n"
     ]
    }
   ],
   "source": [
    "covid_en = covid['title'].apply(translated)\n",
    "covid['title_en']  = covid_en"
   ]
  },
  {
   "cell_type": "code",
   "execution_count": 71,
   "id": "bf470dd2-a436-4f94-846b-856c89c641be",
   "metadata": {},
   "outputs": [],
   "source": [
    "covid.to_excel(\"covid_en.xlsx\", index=False, encoding=\"utf-8-sig\")"
   ]
  },
  {
   "cell_type": "code",
   "execution_count": null,
   "id": "d7a276e9-08d8-4f65-9f31-3834de3a27b4",
   "metadata": {},
   "outputs": [],
   "source": []
  }
 ],
 "metadata": {
  "kernelspec": {
   "display_name": "Python 3",
   "language": "python",
   "name": "python3"
  },
  "language_info": {
   "codemirror_mode": {
    "name": "ipython",
    "version": 3
   },
   "file_extension": ".py",
   "mimetype": "text/x-python",
   "name": "python",
   "nbconvert_exporter": "python",
   "pygments_lexer": "ipython3",
   "version": "3.8.8"
  }
 },
 "nbformat": 4,
 "nbformat_minor": 5
}
